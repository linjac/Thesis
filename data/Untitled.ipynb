{
 "cells": [
  {
   "cell_type": "markdown",
   "id": "806d1537",
   "metadata": {},
   "source": [
    "# Pyroomacoustics - Generate IR dataset\n"
   ]
  },
  {
   "cell_type": "code",
   "execution_count": null,
   "id": "e55cf02a",
   "metadata": {},
   "outputs": [],
   "source": [
    "from sklearn import preprocessing\n",
    "\n",
    "normalizer = preprocessing.Normalizer()\n",
    "normalized_train_x = normalizer.fit_transform(x_train)\n",
    "normalized_test_x = normalizer.transform(x_test)"
   ]
  },
  {
   "cell_type": "code",
   "execution_count": null,
   "id": "669dc44d",
   "metadata": {},
   "outputs": [],
   "source": [
    "\"\"\"\n",
    "This example program demonstrates the use of ray tracing\n",
    "for the simulation of rooms of different sizes.\n",
    "\"\"\"\n",
    "from __future__ import print_function\n",
    "\n",
    "import argparse\n",
    "import sys\n",
    "import time\n",
    "\n",
    "import matplotlib.pyplot as plt\n",
    "import numpy as np\n",
    "from scipy.io import wavfile\n",
    "\n",
    "import pyroomacoustics as pra\n",
    "\n",
    "fs, audio_anechoic = wavfile.read(\"notebooks/arctic_a0010.wav\")\n",
    "\n",
    "reverb_opts = {\n",
    "    \"medium\": {\"e_abs\": 0.3},\n",
    "    \"short\": {\n",
    "        \"e_abs\": 0.7,\n",
    "    },\n",
    "    \"long\": {\"e_abs\": 0.1},\n",
    "}\n",
    "\n",
    "size_opts = {\n",
    "    \"medium\": {\"mult\": 2.5, \"receiver_radius\": 0.2},\n",
    "    \"large\": {\"mult\": 5.0, \"receiver_radius\": 0.5},\n",
    "    \"small\": {\"mult\": 1.0, \"receiver_radius\": 0.1},\n",
    "}\n",
    "\n",
    "\n",
    "def get_rir(size, reverb):\n",
    "    # We construct a non-shoebox room\n",
    "    pol = size_opts[size][\"mult\"] * np.array([[0, 0], [0, 4], [3, 2], [3, 0]]).T\n",
    "    mat = pra.Material(reverb_opts[reverb][\"e_abs\"])\n",
    "    room = pra.Room.from_corners(\n",
    "        pol, fs=16000, max_order=2, materials=mat, ray_tracing=True\n",
    "    )\n",
    "\n",
    "    # Create the 3D room by extruding the 2D by a specific height\n",
    "    room.extrude(size_opts[size][\"mult\"] * 2.5, materials=mat)\n",
    "\n",
    "    # set the ray tracing parameters\n",
    "    room.set_ray_tracing(\n",
    "        receiver_radius=size_opts[size][\"receiver_radius\"]\n",
    "    )  # , n_rays=100000)\n",
    "\n",
    "    # Adding the source\n",
    "    room.add_source(\n",
    "        size_opts[size][\"mult\"] * np.array([1.8, 0.4, 1.6]), signal=audio_anechoic\n",
    "    )\n",
    "\n",
    "    # Adding the microphone\n",
    "    R = size_opts[size][\"mult\"] * np.array([[0.5], [1.2], [0.5]])\n",
    "    room.add_microphone_array(pra.MicrophoneArray(R, room.fs))\n",
    "\n",
    "    # Compute the RIR using the hybrid method\n",
    "    s = time.perf_counter()\n",
    "    room.compute_rir()\n",
    "    print(\"Computation time:\", time.perf_counter() - s)\n",
    "\n",
    "    return room.rir[0][0], room\n",
    "\n",
    "\n",
    "if __name__ == \"__main__\":\n",
    "    parser = argparse.ArgumentParser(\n",
    "        description=(\n",
    "            \"Demonstrates the use of ray tracing for rooms of \"\n",
    "            \"different size and reverberation time\"\n",
    "        )\n",
    "    )\n",
    "    size_choices = list(size_opts.keys())\n",
    "    reverb_choices = list(reverb_opts.keys())\n",
    "    parser.add_argument(\n",
    "        \"size\", choices=size_choices, default=size_choices[0], help=\"room size\"\n",
    "    )\n",
    "    parser.add_argument(\n",
    "        \"reverb\",\n",
    "        choices=reverb_choices,\n",
    "        default=reverb_choices[0],\n",
    "        help=\"amount of reverberation\",\n",
    "    )\n",
    "    args = parser.parse_args()\n",
    "\n",
    "    rir, room = get_rir(size=args.size, reverb=args.reverb)\n",
    "\n",
    "    room.plot(img_order=0)\n",
    "    plt.title(\"The room we have simulated\")\n",
    "\n",
    "    # Plot and apply the RIR on the audio file\n",
    "    plt.figure()\n",
    "    room.plot_rir()\n",
    "    plt.show()\n",
    "\n",
    "    plt.show()\n",
    "\n",
    "    # print('Max error (rel):', np.max(np.abs(new_rir - old_rir))/np.max(np.abs(new_rir)))\n",
    "    # print('Mean error (rel):', np.mean(np.abs(new_rir - old_rir))/np.max(np.abs(new_rir)))"
   ]
  },
  {
   "cell_type": "code",
   "execution_count": 1,
   "id": "854e665d",
   "metadata": {},
   "outputs": [],
   "source": [
    "\"\"\"\n",
    "In this example, we construct an L-shape 3D room. We use the same floor as in\n",
    "the 2D example and extrude a 3D room from the floor with a given height.  This\n",
    "is a simple way to create 3D rooms that fits most situations.  Then, we place\n",
    "one source and two microphones in the room and compute the room impulse\n",
    "responses.\n",
    "\n",
    "The simulation is done using the hybrid ISM/RT simulator.\n",
    "\"\"\"\n",
    "from __future__ import print_function\n",
    "\n",
    "import time\n",
    "\n",
    "import matplotlib.pyplot as plt\n",
    "import numpy as np\n",
    "from scipy.io import wavfile\n",
    "\n",
    "import pyroomacoustics as pra"
   ]
  },
  {
   "cell_type": "code",
   "execution_count": 5,
   "id": "fbcdcefd",
   "metadata": {},
   "outputs": [
    {
     "data": {
      "text/plain": [
       "[<matplotlib.lines.Line2D at 0x1e9d1651cc0>]"
      ]
     },
     "execution_count": 5,
     "metadata": {},
     "output_type": "execute_result"
    },
    {
     "data": {
      "image/png": "[encoded data removed]",
      "text/plain": [
       "<Figure size 640x480 with 1 Axes>"
      ]
     },
     "metadata": {},
     "output_type": "display_data"
    }
   ],
   "source": [
    "# Create an impulse\n",
    "fs = 16000\n",
    "sec = 1\n",
    "impulse = np.zeros(fs*sec)\n",
    "impulse[0] = 1\n",
    "sci"
   ]
  },
  {
   "cell_type": "code",
   "execution_count": 4,
   "id": "5f96c2e1",
   "metadata": {},
   "outputs": [
    {
     "name": "stdout",
     "output_type": "stream",
     "text": [
      "Done in 1.6203927993774414 seconds.\n",
      "RT60: 0.913375\n"
     ]
    },
    {
     "data": {
      "image/png": "[encoded data removed]",
      "text/plain": [
       "<Figure size 640x480 with 1 Axes>"
      ]
     },
     "metadata": {},
     "output_type": "display_data"
    }
   ],
   "source": [
    "# Create the 2D L-shaped room from the floor polygon\n",
    "pol = np.array([[0, 0], [0, 10], [7.5, 10], [7.5, 6], [5, 6], [5, 0]]).T\n",
    "r_absor = 0.1\n",
    "mat = pra.Material(0.15, 0.1)\n",
    "room = pra.Room.from_corners(\n",
    "    pol,\n",
    "    fs=16000,\n",
    "    # absorption=r_absor,\n",
    "    materials=mat,\n",
    "    max_order=3,\n",
    "    ray_tracing=True,\n",
    "    air_absorption=True,\n",
    ")\n",
    "\n",
    "# # Create the 3D room by extruding the 2D by 10 meters\n",
    "height = 10.0\n",
    "room.extrude(height, materials=mat)\n",
    "\n",
    "room.set_ray_tracing(receiver_radius=0.5)\n",
    "\n",
    "# # Add a source somewhere in the room\n",
    "fs, audio_anechoic = wavfile.read(\"input_samples/cmu_arctic_us_aew_a0001.wav\")\n",
    "room.add_source([1.5, 1.7, 1.6], signal=audio_anechoic)\n",
    "\n",
    "# Add a microphone\n",
    "room.add_microphone([3.0, 2.25, 0.6])\n",
    "\n",
    "# Use the following function to compute the rir using either 'ism' method, 'rt' method, or 'hybrid' method\n",
    "chrono = time.time()\n",
    "room.compute_rir()\n",
    "print(\"Done in\", time.time() - chrono, \"seconds.\")\n",
    "print(\"RT60:\", room.measure_rt60()[0, 0])\n",
    "\n",
    "room.plot_rir()\n",
    "plt.show()\n",
    "room.simulate()\n",
    "audio_reverb = room.mic_array.to_wav(\"output_samples/aaa.wav\", norm=True, bitdepth=np.int16)"
   ]
  },
  {
   "cell_type": "code",
   "execution_count": 6,
   "id": "35eb87e1",
   "metadata": {},
   "outputs": [],
   "source": [
    "rir_storage = room.rir"
   ]
  },
  {
   "cell_type": "code",
   "execution_count": 14,
   "id": "c516a0fb",
   "metadata": {},
   "outputs": [
    {
     "data": {
      "text/plain": [
       "numpy.ndarray"
      ]
     },
     "execution_count": 14,
     "metadata": {},
     "output_type": "execute_result"
    }
   ],
   "source": [
    "type(rir_storage[0][0])"
   ]
  },
  {
   "cell_type": "code",
   "execution_count": 23,
   "id": "ea0797a2",
   "metadata": {},
   "outputs": [
    {
     "data": {
      "image/png": "[encoded data removed]",
      "text/plain": [
       "<Figure size 640x480 with 1 Axes>"
      ]
     },
     "metadata": {},
     "output_type": "display_data"
    }
   ],
   "source": [
    "spacing = pra.beamforming.linear_2D_array([0,0], 10, 0, 1)\n",
    "ax = plt.figure().add_subplot()\n",
    "ax.plot(spacing[0,:],spacing[1,:], '^')\n",
    "plt.show()"
   ]
  },
  {
   "cell_type": "code",
   "execution_count": 21,
   "id": "0b5dce45",
   "metadata": {},
   "outputs": [
    {
     "data": {
      "image/png": "[encoded data removed]",
      "text/plain": [
       "<Figure size 640x480 with 1 Axes>"
      ]
     },
     "metadata": {},
     "output_type": "display_data"
    }
   ],
   "source": []
  },
  {
   "cell_type": "code",
   "execution_count": null,
   "id": "a93473ee",
   "metadata": {},
   "outputs": [],
   "source": []
  }
 ],
 "metadata": {
  "kernelspec": {
   "display_name": "Python 3 (ipykernel)",
   "language": "python",
   "name": "python3"
  },
  "language_info": {
   "codemirror_mode": {
    "name": "ipython",
    "version": 3
   },
   "file_extension": ".py",
   "mimetype": "text/x-python",
   "name": "python",
   "nbconvert_exporter": "python",
   "pygments_lexer": "ipython3",
   "version": "3.10.11"
  }
 },
 "nbformat": 4,
 "nbformat_minor": 5
}
