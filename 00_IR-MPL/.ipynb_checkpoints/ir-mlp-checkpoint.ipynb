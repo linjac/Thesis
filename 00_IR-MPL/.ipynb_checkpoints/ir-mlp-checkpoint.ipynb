{
 "cells": [
  {
   "cell_type": "markdown",
   "id": "de11a40d",
   "metadata": {},
   "source": [
    "# IR-MLP"
   ]
  },
  {
   "cell_type": "code",
   "execution_count": 2,
   "id": "bc5e3dc2",
   "metadata": {},
   "outputs": [],
   "source": [
    "skip_training = False  # Set this flag to True before validation and submission"
   ]
  },
  {
   "cell_type": "code",
   "execution_count": 3,
   "id": "33676011",
   "metadata": {},
   "outputs": [],
   "source": [
    "# During evaluation, this cell sets skip_training to True\n",
    "\n",
    "import tools, warnings\n",
    "warnings.showwarning = tools.customwarn"
   ]
  },
  {
   "cell_type": "code",
   "execution_count": 4,
   "id": "7b4c1ded",
   "metadata": {},
   "outputs": [],
   "source": [
    "import os\n",
    "import numpy as np\n",
    "import pandas as pd\n",
    "import matplotlib.pyplot as plt\n",
    "%matplotlib inline\n",
    "\n",
    "import torch\n",
    "import torch.nn as nn\n",
    "import torch.nn.functional as F\n"
   ]
  },
  {
   "cell_type": "code",
   "execution_count": 5,
   "id": "39431c45",
   "metadata": {},
   "outputs": [
    {
     "name": "stdout",
     "output_type": "stream",
     "text": [
      "The data directory is ../data\n"
     ]
    }
   ],
   "source": [
    "# When running on your own computer, you can specify the data directory by:\n",
    "# data_dir = tools.select_data_dir('/your/local/data/directory')\n",
    "data_dir = tools.select_data_dir()"
   ]
  },
  {
   "cell_type": "code",
   "execution_count": 6,
   "id": "a6e6a6f9",
   "metadata": {},
   "outputs": [],
   "source": [
    "# Select device which you are going to use for training\n",
    "#device = torch.device(\"cuda:0\")\n",
    "device = torch.device(\"cpu\")"
   ]
  },
  {
   "cell_type": "code",
   "execution_count": 7,
   "id": "8d63e772",
   "metadata": {},
   "outputs": [],
   "source": [
    "if skip_training:\n",
    "    # The models are always evaluated on CPU\n",
    "    device = torch.device(\"cpu\")"
   ]
  },
  {
   "cell_type": "markdown",
   "id": "44456a37",
   "metadata": {},
   "source": [
    "### Input preprocessing\n",
    "\n",
    "Spatio-temporal coordinate are mapped to a high dimensional space using Fourier features with $L=10$. \n",
    "\n",
    "$$\\gamma(p) = \\{ \\sin(2^l \\pi p), \\cos(2^l \\pi p); 0 \\leq l < L \\}$$\n",
    "$$ p := (x,y,z,t)$$\n"
   ]
  },
  {
   "cell_type": "code",
   "execution_count": 8,
   "id": "332880bf",
   "metadata": {},
   "outputs": [],
   "source": [
    "def fourier_features_mapping(p, L):\n",
    "    \"\"\" Computes Fourier features as defined in the paper. B may be changed later on.\n",
    "    Args:\n",
    "        p of shape (batch_size, p[0]_dim): raw tensor \n",
    "    Returns:\n",
    "        x_out of shape (batch_size, 1, p_dim.shape[1]*2*L) : fourier features of p\n",
    "    \"\"\"\n",
    "    B = torch.tensor([np.pi*2**l for l in range(L)])\n",
    "    B = B[None, :]\n",
    "    x_out = torch.empty(p.shape[0], 1, 2*L*p.shape[1])\n",
    "    \n",
    "    for i,x in enumerate(p):\n",
    "        x_proj = x[:,None] * B\n",
    "        x_out[i] = torch.reshape(torch.cat([torch.sin(x_proj), torch.cos(x_proj)], axis=-1), (1,-1))\n",
    "#     print(x_out.shape)\n",
    "    return x_out"
   ]
  },
  {
   "cell_type": "code",
   "execution_count": 9,
   "id": "559d405e",
   "metadata": {},
   "outputs": [],
   "source": [
    "# ### Testing\n",
    "# fs=48000\n",
    "# t = torch.tensor([[5],[6],[40000]])/fs\n",
    "# t = fourier_features_mapping(t,10)\n",
    "# # print(f'T_map shape: {t.shape}')\n",
    "# # print(t)\n",
    "# p = torch.tensor([[2,3,5],[4,4,6]])/6\n",
    "# p = fourier_features_mapping(p,10)\n",
    "# # print(f'T_map shape: {p.shape}')\n",
    "# # print(p)\n",
    "# b = t\n",
    "# batch_size = p.shape[0]\n",
    "# time_len = b.shape[0]\n",
    "# b = np.swapaxes(b, 0,1)\n",
    "# b = np.repeat(b, batch_size, axis=0)\n",
    "\n",
    "# a = p\n",
    "# a = np.repeat(a, time_len, axis=1)\n",
    "# out = np.concatenate((a,b), axis=-1)\n",
    "# # print(out.shape)"
   ]
  },
  {
   "cell_type": "code",
   "execution_count": 18,
   "id": "1f218b9a",
   "metadata": {},
   "outputs": [],
   "source": [
    "PADDING_VALUE = 0.0\n",
    "L = 10\n",
    "FS = 20\n",
    "sec = 1\n",
    "\n",
    "# from torch.nn.utils.rnn import pad_sequence\n",
    "\n",
    "### may have to deal with differing sample rates later. \n",
    "def collate(list_of_samples):\n",
    "    \"\"\"Merges a list of samples to form a mini-batch.\n",
    "\n",
    "    Args:\n",
    "      list_of_samples is a list of tuples (p, tgt_seq) of length batch_size:\n",
    "          p is of shape (3)\n",
    "          tgt_seq is of shape (FS*sec)\n",
    "\n",
    "    Returns:\n",
    "      pt of shape (batch_size, max_tgt_seq_length, input_mapped_dim): LongTensor of padded source sequences.\n",
    "      tgt of shape (batch_size, FS*sec): LongTensor of padded target sequences.\n",
    "    \"\"\"\n",
    "    \n",
    "    p, tgt_seqs = map(list, zip(*list_of_samples))\n",
    "    \n",
    "    batch_size = len(p)\n",
    "#     max_IR_len = max(len(seq) for seq in tgt_seqs)\n",
    "    IR_len = FS*sec\n",
    "    \n",
    "    # calculate Fourier features for positions\n",
    "    p = torch.stack(p)\n",
    "    p = fourier_features_mapping(p, L)\n",
    "    p = np.repeat(p, IR_len, axis=1)\n",
    "    \n",
    "    # calculate Fourier features for time\n",
    "    t = fourier_features_mapping(torch.reshape(torch.arange(0, IR_len), (-1,1))/FS, L)\n",
    "    t = np.repeat(np.swapaxes(t, 0,1), batch_size, axis=0)\n",
    "    \n",
    "    pt = torch.cat((p,t), axis=-1)\n",
    "#     tgt = pad_sequence(tgt_seqs, batch_first=True)\n",
    "    \n",
    "    tgt = torch.stack(tgt_seqs)\n",
    "    assert tgt.shape == torch.Size([len(tgt_seqs),IR_len]), f'Input tgt_sequence incorrect length: {tgt.shape}'\n",
    "\n",
    "    return pt, tgt"
   ]
  },
  {
   "cell_type": "code",
   "execution_count": 24,
   "id": "33340419",
   "metadata": {},
   "outputs": [
    {
     "name": "stdout",
     "output_type": "stream",
     "text": [
      "Success\n"
     ]
    }
   ],
   "source": [
    "def test_collate_fn():\n",
    "    pairs = [\n",
    "        (torch.tensor([1,2,3]), torch.randn(FS*sec)),\n",
    "        (torch.tensor([2,1,0]), torch.randn(FS*sec)),\n",
    "        (torch.tensor([6,3,7]), torch.randn(FS*sec)),\n",
    "    ]\n",
    "    pt, tgt = collate(pairs)\n",
    "    assert pt.shape == torch.Size([3, FS*sec, 80]), f\"Bad pt.shape: {pt.shape}\"\n",
    "#     assert pt.dtype == torch.long\n",
    "    assert tgt.shape == torch.Size([3, FS*sec]), f\"Bad tgt.shape: {tgt.shape}\"\n",
    "#     assert tgt.dtype == torch.long, f\"Bad tgt.dtype: {tgt.dtype}\"\n",
    "    print('Success')\n",
    "\n",
    "test_collate_fn()"
   ]
  },
  {
   "cell_type": "markdown",
   "id": "c669b42c",
   "metadata": {},
   "source": [
    "## Data"
   ]
  },
  {
   "cell_type": "code",
   "execution_count": null,
   "id": "84139b9f",
   "metadata": {},
   "outputs": [],
   "source": [
    "trainset = ________(root=data_dir, train=True, download=True, transform=transform)\n",
    "trainloader = torch.utils.data.DataLoader(trainset, collate, batch_size=16, shuffle=True)"
   ]
  },
  {
   "cell_type": "code",
   "execution_count": 48,
   "id": "2b6e9a49",
   "metadata": {},
   "outputs": [
    {
     "data": {
      "text/plain": [
       "<matplotlib.legend.Legend at 0x1dcc8abd840>"
      ]
     },
     "execution_count": 48,
     "metadata": {},
     "output_type": "execute_result"
    },
    {
     "data": {
      "image/png": "[encoded data removed]",
      "text/plain": [
       "<Figure size 640x480 with 1 Axes>"
      ]
     },
     "metadata": {},
     "output_type": "display_data"
    }
   ],
   "source": [
    "# pos_sample, tgt_sample = trainset[np.random.choice(len(trainset))]\n",
    "p_sample, tgt_sample = (torch.tensor([1,2,3]), torch.randn(FS*sec)) # stand-in data\n",
    "tgt_pred = torch.randn(FS*sec)\n",
    "\n",
    "import matplotlib.pyplot as plt\n",
    "time_scale = np.linspace(0,sec,FS*sec)\n",
    "#Plot the data \n",
    "fig, ax = plt.subplots(1)\n",
    "ax.plot(time_scale, tgt_sample, time_scale, tgt_pred)\n",
    "ax.legend(['Ground Truth','Predicted'])"
   ]
  },
  {
   "cell_type": "markdown",
   "id": "61a958b0",
   "metadata": {},
   "source": [
    "### Architecture\n",
    "\n",
    "The architecture reported in the paper is listed here:  \n",
    "1. full model: fully connected layers=6, hidden size=512, leaky ReLU\n",
    "2. lightweight model: fully connected layers=6, hidden size=32\n",
    "\n",
    "Architecture here:\n",
    "- linear layer (input size, hidden size) + Leaky ReLU \n",
    "- linear layer (hidden size, hidden size) + Leaky ReLU \n",
    "- linear layer (hidden size, hidden size) + Leaky ReLU \n",
    "- linear layer (hidden size, hidden size) + Leaky ReLU \n",
    "- linear layer (hidden size, hidden size) + Leaky ReLU \n",
    "- linear layer (hidden size, hidden size) + Leaky ReLU \n",
    "- linear layer (hidden size, 1)\n"
   ]
  },
  {
   "cell_type": "code",
   "execution_count": 31,
   "id": "eaf584a8",
   "metadata": {},
   "outputs": [],
   "source": [
    "class IRMLP(nn.Module):\n",
    "    def __init__(self, num_layers,input_size,hidden_size,negative_slope=0.01):\n",
    "        super(IRMLP,self).__init__()\n",
    "        \n",
    "        linear_stack = [nn.Sequential(\n",
    "            nn.Linear(input_size, hidden_size),\n",
    "            nn.LeakyReLU(negative_slope)\n",
    "        )]\n",
    "        for _ in range(num_layers-1):\n",
    "            linear_stack.extend([nn.Linear(hidden_size,hidden_size), nn.LeakyReLU(negative_slope)])\n",
    "        self.fcn = nn.ModuleList(linear_stack)\n",
    "        self.output_layer = nn.Linear(hidden_size,1)\n",
    "        \n",
    "    def forward(self, x):\n",
    "        \"\"\"\n",
    "        Args:\n",
    "            x of shape (batch_size*IR_len, input_mapped_dim = 4*2*10 = 80): \n",
    "            Tensor with transformed input position vectors.\n",
    "        \n",
    "        Returns:\n",
    "            h_t of shape (batch_size, 1): value for time step t\n",
    "            \n",
    "        \"\"\"\n",
    "        out = self.fcn(x)\n",
    "        h_t = self.output_layer(out)\n",
    "        \n",
    "        return h_t"
   ]
  },
  {
   "cell_type": "markdown",
   "id": "185366ea",
   "metadata": {},
   "source": [
    "### Training\n",
    "Initialize the IR-MLP model, then train."
   ]
  },
  {
   "cell_type": "code",
   "execution_count": 41,
   "id": "04efc59a",
   "metadata": {},
   "outputs": [],
   "source": [
    "num_layers = 6\n",
    "input_size = 4*20\n",
    "hidden_size = 32\n",
    "\n",
    "model = IRMLP(num_layers, input_size, hidden_size).to(device)"
   ]
  },
  {
   "cell_type": "code",
   "execution_count": 42,
   "id": "0627a855",
   "metadata": {},
   "outputs": [
    {
     "ename": "NameError",
     "evalue": "name 'trainloader' is not defined",
     "output_type": "error",
     "traceback": [
      "\u001b[1;31m---------------------------------------------------------------------------\u001b[0m",
      "\u001b[1;31mNameError\u001b[0m                                 Traceback (most recent call last)",
      "Cell \u001b[1;32mIn[42], line 8\u001b[0m\n\u001b[0;32m      6\u001b[0m \u001b[38;5;28;01mfor\u001b[39;00m epoch \u001b[38;5;129;01min\u001b[39;00m \u001b[38;5;28mrange\u001b[39m(EPOCHS):\n\u001b[0;32m      7\u001b[0m     total_loss \u001b[38;5;241m=\u001b[39m \u001b[38;5;241m0\u001b[39m\n\u001b[1;32m----> 8\u001b[0m     \u001b[38;5;28;01mfor\u001b[39;00m pt, tgt \u001b[38;5;129;01min\u001b[39;00m \u001b[43mtrainloader\u001b[49m:\n\u001b[0;32m      9\u001b[0m         \u001b[38;5;66;03m# Zero gradient of optimizer:\u001b[39;00m\n\u001b[0;32m     10\u001b[0m         optimizer\u001b[38;5;241m.\u001b[39mzero_grad()\n\u001b[0;32m     12\u001b[0m         \u001b[38;5;66;03m# reshape inputs\u001b[39;00m\n",
      "\u001b[1;31mNameError\u001b[0m: name 'trainloader' is not defined"
     ]
    }
   ],
   "source": [
    "if not skip_training:\n",
    "    EPOCHS = 5\n",
    "    optimizer = torch.optim.Adam(model.parameters(), lr=0.001)\n",
    "    criterion = nn.MSELoss()\n",
    "\n",
    "    for epoch in range(EPOCHS):\n",
    "        model.train()\n",
    "        total_loss = 0\n",
    "        for pt, tgt in trainloader:\n",
    "            # Zero gradient of optimizer:\n",
    "            optimizer.zero_grad()\n",
    "\n",
    "            # reshape inputs\n",
    "            batch_size = pt.shape[0]\n",
    "            pt = pt.view(-1, pt.shape[-1])\n",
    "            \n",
    "            # Predict sample at time t\n",
    "            tgt_pred = model(pt)                        \n",
    "\n",
    "            loss = criterion(tgt_pred.view(batch_size, -1), tgt)\n",
    "            loss.backward()\n",
    "\n",
    "            optimizer.step()\n",
    "            \n",
    "            total_loss += loss.item()\n",
    "            \n",
    "        print(f\"Epoch {epoch}. Loss: {total_loss/(len(trainloader)*FS*sec)}\")\n",
    "        with torch.no_grad():\n",
    "            model.eval()\n",
    "            pt, tgt_gt = collate([trainset[np.random.choice(len(trainset))]])\n",
    "            tgt_pred = torch.flatten(model(pt)) \n",
    "    \n",
    "            time_scale = np.linspace(0,sec,FS*sec)\n",
    "            #Plot the data \n",
    "            fig, ax = plt.subplots(1)\n",
    "            ax.plot(time_scale, tgt_gt, time_scale, tgt_pred)\n",
    "            ax.legend(['Ground Truth','Predicted'])\n"
   ]
  },
  {
   "cell_type": "code",
   "execution_count": null,
   "id": "0cf76488",
   "metadata": {},
   "outputs": [],
   "source": []
  },
  {
   "cell_type": "code",
   "execution_count": 45,
   "id": "fca07681",
   "metadata": {},
   "outputs": [
    {
     "name": "stdout",
     "output_type": "stream",
     "text": [
      "torch.Size([2, 3])\n",
      "tensor([[1, 2, 3],\n",
      "        [4, 5, 6]])\n"
     ]
    }
   ],
   "source": [
    "x = torch.tensor([[1,2,3],[4,5,6]])\n",
    "x = x.view(-1,3)\n",
    "print(x.shape)\n",
    "print(x)"
   ]
  },
  {
   "cell_type": "code",
   "execution_count": null,
   "id": "6667e9f6",
   "metadata": {},
   "outputs": [],
   "source": []
  }
 ],
 "metadata": {
  "kernelspec": {
   "display_name": "Python 3 (ipykernel)",
   "language": "python",
   "name": "python3"
  },
  "language_info": {
   "codemirror_mode": {
    "name": "ipython",
    "version": 3
   },
   "file_extension": ".py",
   "mimetype": "text/x-python",
   "name": "python",
   "nbconvert_exporter": "python",
   "pygments_lexer": "ipython3",
   "version": "3.10.11"
  }
 },
 "nbformat": 4,
 "nbformat_minor": 5
}
